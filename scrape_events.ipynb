{
 "cells": [
  {
   "cell_type": "code",
   "execution_count": 24,
   "metadata": {},
   "outputs": [
    {
     "name": "stdout",
     "output_type": "stream",
     "text": [
      "<bound method MySQLConnection.commit of <mysql.connector.connection.MySQLConnection object at 0x06EBB118>>\n",
      "city_id, name\n",
      "%s, %s\n"
     ]
    }
   ],
   "source": [
    "def insertRecordsMySQLDb(username, password, hostIp, data, tableName, database = \"event_tracker\"):\n",
    "    import mysql.connector\n",
    "    import uuid\n",
    "\n",
    "    # #quick error checking\n",
    "    # try type(data) = list:\n",
    "\n",
    "\n",
    "    # connect to mysql database\n",
    "    cnx = mysql.connector.connect(user=username, password=password,\n",
    "                                host=hostIp,\n",
    "                                database=database)\n",
    "    \n",
    "    id = str(uuid.uuid4())[-8:]\n",
    "    #\n",
    "    mycursor = cnx.cursor()\n",
    "    sql = f\"desc {tableName}\"\n",
    "    mycursor.execute(sql2)\n",
    "    myresult = mycursor.fetchall()\n",
    "    cols = \"\"\n",
    "    values =\"\"\n",
    "    for i in range(0,len(myresult)):\n",
    "        if i == 0:\n",
    "            cols = myresult[i][0]\n",
    "            values = \"%s\"\n",
    "        else:\n",
    "            cols = cols + \", \" + (myresult[i][0])\n",
    "            values = values + \", %s\"\n",
    "\n",
    "    sql = f\"INSERT INTO {tableName} ({cols}) VALUES ({values})\"\n",
    "    try:\n",
    "        mycursor.execute(sql, data)\n",
    "        cnx.commit()\n",
    "    except:\n",
    "        print(\"error occurred\")\n",
    "\n",
    "\n",
    "    cnx.close()"
   ]
  },
  {
   "cell_type": "code",
   "execution_count": 15,
   "metadata": {},
   "outputs": [
    {
     "name": "stdout",
     "output_type": "stream",
     "text": [
      "0447927f\n"
     ]
    }
   ],
   "source": [
    "\n"
   ]
  }
 ],
 "metadata": {
  "interpreter": {
   "hash": "70d9c1ae698f9e11524533c08f608ce409219722385f62d36cf17eae98d28817"
  },
  "kernelspec": {
   "display_name": "Python 3.8.5 32-bit",
   "language": "python",
   "name": "python3"
  },
  "language_info": {
   "codemirror_mode": {
    "name": "ipython",
    "version": 3
   },
   "file_extension": ".py",
   "mimetype": "text/x-python",
   "name": "python",
   "nbconvert_exporter": "python",
   "pygments_lexer": "ipython3",
   "version": "3.8.5"
  },
  "orig_nbformat": 4
 },
 "nbformat": 4,
 "nbformat_minor": 2
}
